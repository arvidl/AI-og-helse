{
 "cells": [
  {
   "cell_type": "markdown",
   "id": "afe30f15",
   "metadata": {},
   "source": [
    "📤 Automatisk Imgur-opplasting"
   ]
  },
  {
   "cell_type": "code",
   "execution_count": 3,
   "id": "034bf652",
   "metadata": {},
   "outputs": [],
   "source": [
    "# imgur-opplasting.ipynb\n",
    "\n",
    "import requests\n",
    "import base64\n",
    "import json\n",
    "from IPython.display import Image, display\n",
    "import os\n",
    "\n",
    "def last_opp_til_imgur(fil_sti, client_id=None):\n",
    "    \"\"\"\n",
    "    Last opp bilde til Imgur og returner permanent lenke\n",
    "    \n",
    "    Args:\n",
    "        fil_sti: Sti til bildefilen\n",
    "        client_id: Imgur API Client ID (valgfri for anonym opplasting)\n",
    "    \n",
    "    Returns:\n",
    "        dict: Imgur respons med lenker\n",
    "    \"\"\"\n",
    "    \n",
    "    # Sjekk om filen eksisterer\n",
    "    if not os.path.exists(fil_sti):\n",
    "        print(f\"❌ Finner ikke fil: {fil_sti}\")\n",
    "        return None\n",
    "    \n",
    "    # Les og konverter bildet til base64\n",
    "    with open(fil_sti, 'rb') as f:\n",
    "        image_data = f.read()\n",
    "    \n",
    "    # Konverter til base64\n",
    "    encoded_image = base64.b64encode(image_data).decode()\n",
    "    \n",
    "    # Imgur API endpoint\n",
    "    url = \"https://api.imgur.com/3/image\"\n",
    "    \n",
    "    # Headers (anonym opplasting hvis ingen client_id)\n",
    "    headers = {\n",
    "        'Authorization': f'Client-ID {client_id}' if client_id else 'Client-ID 546c25a59c58ad7'\n",
    "    }\n",
    "    \n",
    "    # Data for opplasting\n",
    "    data = {\n",
    "        'image': encoded_image,\n",
    "        'type': 'base64',\n",
    "        'title': 'Dyplærings-modell Topol 2019',\n",
    "        'description': 'AI og Helse kurs - Topol 2019 dyplæringsmodell'\n",
    "    }\n",
    "    \n",
    "    print(\"📤 Laster opp til Imgur...\")\n",
    "    \n",
    "    try:\n",
    "        # Send POST request\n",
    "        response = requests.post(url, headers=headers, data=data)\n",
    "        \n",
    "        if response.status_code == 200:\n",
    "            result = response.json()\n",
    "            \n",
    "            if result['success']:\n",
    "                data = result['data']\n",
    "                \n",
    "                print(\"✅ Opplasting vellykket!\")\n",
    "                print(f\"🔗 Imgur URL: {data['link']}\")\n",
    "                print(f\"📋 Delete hash (for sletting): {data['deletehash']}\")\n",
    "                \n",
    "                # Vis bildet\n",
    "                display(Image(url=data['link'], width=800))\n",
    "                \n",
    "                return {\n",
    "                    'url': data['link'],\n",
    "                    'delete_url': f\"https://imgur.com/delete/{data['deletehash']}\",\n",
    "                    'deletehash': data['deletehash']\n",
    "                }\n",
    "            else:\n",
    "                print(f\"❌ Imgur feil: {result}\")\n",
    "                return None\n",
    "        else:\n",
    "            print(f\"❌ HTTP feil: {response.status_code}\")\n",
    "            print(f\"Response: {response.text}\")\n",
    "            return None\n",
    "            \n",
    "    except Exception as e:\n",
    "        print(f\"❌ Opplastingsfeil: {e}\")\n",
    "        return None\n"
   ]
  },
  {
   "cell_type": "code",
   "execution_count": 4,
   "id": "6427ca51",
   "metadata": {},
   "outputs": [
    {
     "name": "stdout",
     "output_type": "stream",
     "text": [
      "📤 Laster opp til Imgur...\n",
      "✅ Opplasting vellykket!\n",
      "🔗 Imgur URL: https://i.imgur.com/2AV2Kfb.png\n",
      "📋 Delete hash (for sletting): 3yjzyAMGfDBFu4f\n"
     ]
    },
    {
     "data": {
      "text/html": [
       "<img src=\"https://i.imgur.com/2AV2Kfb.png\" width=\"800\"/>"
      ],
      "text/plain": [
       "<IPython.core.display.Image object>"
      ]
     },
     "metadata": {},
     "output_type": "display_data"
    },
    {
     "name": "stdout",
     "output_type": "stream",
     "text": [
      "\n",
      "============================================================\n",
      "🎯 BRUK DENNE LENKEN I DINE NOTEBOOKS:\n",
      "============================================================\n",
      "imgur_url = 'https://i.imgur.com/2AV2Kfb.png'\n",
      "display(Image(url=imgur_url, width=800))\n",
      "============================================================\n"
     ]
    }
   ],
   "source": [
    "# Last opp bildet\n",
    "import os\n",
    "\n",
    "home_dir = os.path.expanduser(\"~\")\n",
    "\n",
    "\n",
    "fil_sti = f'{home_dir}/GitHub/AI-og-helse/uke01-introduksjon/ressurser/dyplærings-modell-topol-2019.png'\n",
    "imgur_result = last_opp_til_imgur(fil_sti)\n",
    "\n",
    "if imgur_result:\n",
    "    print(\"\\n\" + \"=\"*60)\n",
    "    print(\"🎯 BRUK DENNE LENKEN I DINE NOTEBOOKS:\")\n",
    "    print(\"=\"*60)\n",
    "    print(f\"imgur_url = '{imgur_result['url']}'\")\n",
    "    print(\"display(Image(url=imgur_url, width=800))\")\n",
    "    print(\"=\"*60)"
   ]
  },
  {
   "cell_type": "code",
   "execution_count": null,
   "id": "372294b6",
   "metadata": {},
   "outputs": [],
   "source": []
  }
 ],
 "metadata": {
  "kernelspec": {
   "display_name": "ai-helse",
   "language": "python",
   "name": "python3"
  },
  "language_info": {
   "codemirror_mode": {
    "name": "ipython",
    "version": 3
   },
   "file_extension": ".py",
   "mimetype": "text/x-python",
   "name": "python",
   "nbconvert_exporter": "python",
   "pygments_lexer": "ipython3",
   "version": "3.12.11"
  }
 },
 "nbformat": 4,
 "nbformat_minor": 5
}
