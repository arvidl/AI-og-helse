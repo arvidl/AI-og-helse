{
 "cells": [
  {
   "cell_type": "markdown",
   "id": "7de3b2ae",
   "metadata": {},
   "source": [
    "## Intro-notebook: GPT (OpenAI) og Claude (Anthropic) i Jupyter"
   ]
  },
  {
   "cell_type": "markdown",
   "id": "6b52f4cd",
   "metadata": {},
   "source": [
    "To situasjoner: 1. **Jeg kjører lokalt** og 2. **Jeg kjører i skyen**"
   ]
  },
  {
   "cell_type": "markdown",
   "id": "90b4aac0",
   "metadata": {},
   "source": [
    "# Jeg kjører lokalt:"
   ]
  },
  {
   "cell_type": "markdown",
   "id": "2e748fab",
   "metadata": {},
   "source": [
    "Den førtse del av noteboken hjelper deg å sette opp API-nøkler lokalt, teste at alt virker, og gjøre ditt første kall til både GPT-modeller fra OpenAI og Claude-modeller fra Anthropic.  \n",
    "Målet er at du raskt kommer i gang, uten å dele nøklene dine med andre.\n",
    "\n",
    "**Kort struktur:** først skaffer du egne nøkler, deretter lager du en `.env`-fil, så installerer du nødvendige Python-pakker, og til slutt kjører du to enkle testkall."
   ]
  },
  {
   "cell_type": "markdown",
   "id": "47955e27",
   "metadata": {},
   "source": [
    "\n",
    "### 1) Skaff egne API-nøkler\n",
    "\n",
    "Du trenger en nøkkel fra hver plattform. Du registrerer deg hos OpenAI og hos Anthropic. Når du er innlogget, finner du menyvalget for å generere en ny API-nøkkel i konsollen. Når nøklene er opprettet, kopierer du dem. De starter typisk med `sk-` for OpenAI og `sk-ant-` for Anthropic.\n",
    "\n",
    "### 2) Lag en `.env`-fil lokalt (denne blir ignorert i `.gitignore`)\n",
    "\n",
    "Gjør følgende i samme mappe som denne noteboken:\n",
    "\n",
    "1. Opprett en ny tekstfil med navnet `.env`.\n",
    "2. Lim inn to linjer, én for hver nøkkel, der du bytter ut plassholderne med dine faktiske nøkler:\n",
    "\n",
    "```\n",
    "OPENAI_API_KEY=sk-...din_nokkel_her...\n",
    "ANTHROPIC_API_KEY=sk-ant-...din_nokkel_her...\n",
    "```\n",
    "\n",
    "3. Lagre filen. Ikke del den offentlig, og ikke legg den i et åpent Git-repo.\n",
    "\n",
    "Hvis du foretrekker miljøvariabler i terminal i stedet for `.env`, kan du eksportere dem før du starter Jupyter:\n",
    "\n",
    "```\n",
    "export OPENAI_API_KEY=\"sk-...\"\n",
    "export ANTHROPIC_API_KEY=\"sk-ant-...\"\n",
    "```\n",
    "\n",
    "### 3) Installer nødvendige pakker\n",
    "\n",
    "Kjør cellen under for å installere tre pakker: `python-dotenv` for å lese `.env`, samt de offisielle klientbibliotekene for OpenAI og Anthropic.\n"
   ]
  },
  {
   "cell_type": "code",
   "execution_count": 30,
   "id": "d63475ef",
   "metadata": {},
   "outputs": [],
   "source": [
    "# Installer nødvendige biblioteker (kjør én gang, eller når du bytter miljø)\n",
    "# Dette er kun aktuelt om du kjører på Google Colab eller GitHub Codespaces:\n",
    "# !pip install --quiet python-dotenv openai anthropic\n",
    "# print(\"Pakker installert.\")\n",
    "\n",
    "# Kjører du lokalt (Anaconda med `ai-helse` conda environment)\n",
    "# er python-dotenv, openai og  anthropic allerede installert\n"
   ]
  },
  {
   "cell_type": "code",
   "execution_count": 31,
   "id": "1db0e965",
   "metadata": {},
   "outputs": [
    {
     "name": "stdout",
     "output_type": "stream",
     "text": [
      "✅ Fant begge API-nøkler i miljøet.\n"
     ]
    }
   ],
   "source": [
    "from dotenv import load_dotenv\n",
    "import os, textwrap, sys\n",
    "\n",
    "# Last .env hvis den finnes i samme mappe\n",
    "_ = load_dotenv()\n",
    "\n",
    "OPENAI_API_KEY = os.getenv(\"OPENAI_API_KEY\")\n",
    "ANTHROPIC_API_KEY = os.getenv(\"ANTHROPIC_API_KEY\")\n",
    "\n",
    "problems = []\n",
    "if not OPENAI_API_KEY or not OPENAI_API_KEY.strip():\n",
    "    problems.append(\"Mangler OPENAI_API_KEY. Legg inn i .env eller som miljøvariabel.\")\n",
    "if not ANTHROPIC_API_KEY or not ANTHROPIC_API_KEY.strip():\n",
    "    problems.append(\"Mangler ANTHROPIC_API_KEY. Legg inn i .env eller som miljøvariabel.\")\n",
    "\n",
    "if problems:\n",
    "    msg = \"\\n\".join([\"❌ \" + p for p in problems])\n",
    "    raise RuntimeError(textwrap.dedent(f\"\"\"\n",
    "    {msg}\n",
    "\n",
    "    Tips:\n",
    "      1) Opprett en .env-fil i samme mappe som noteboken.\n",
    "      2) Sett OPENAI_API_KEY og ANTHROPIC_API_KEY.\n",
    "      3) Kjør denne cellen på nytt.\n",
    "    \"\"\"))\n",
    "else:\n",
    "    print(\"✅ Fant begge API-nøkler i miljøet.\")\n"
   ]
  },
  {
   "cell_type": "markdown",
   "id": "00da1928",
   "metadata": {},
   "source": [
    "\n",
    "### 4) Første testkall: OpenAI (GPT)\n",
    "\n",
    "Denne cellen bruker **OpenAI Python SDK** og `Responses`-endepunktet. Vi gjør en enkel tekstforespørsel for å bekrefte at tilkoblingen fungerer.\n"
   ]
  },
  {
   "cell_type": "code",
   "execution_count": 32,
   "id": "843f3015",
   "metadata": {},
   "outputs": [
    {
     "name": "stdout",
     "output_type": "stream",
     "text": [
      "OpenAI svar: OpenAI-tilkoblingen fungerer som den skal.\n"
     ]
    }
   ],
   "source": [
    "\n",
    "from openai import OpenAI\n",
    "import os\n",
    "\n",
    "client = OpenAI(api_key=os.getenv(\"OPENAI_API_KEY\"))\n",
    "\n",
    "prompt = \"Skriv én setning som bekrefter at OpenAI-tilkoblingen fungerer (på norsk).\"\n",
    "\n",
    "# Responses API (anbefalt i ny SDK)\n",
    "resp = client.responses.create(\n",
    "    model=\"gpt-4o-mini\",\n",
    "    input=prompt,\n",
    ")\n",
    "\n",
    "# Ny SDK har en helper for å hente ut tekst\n",
    "try:\n",
    "    print(\"OpenAI svar:\", resp.output_text)\n",
    "except Exception:\n",
    "    # Fallback i tilfelle struktur endres\n",
    "    print(resp)\n"
   ]
  },
  {
   "cell_type": "markdown",
   "id": "7a6a9978",
   "metadata": {},
   "source": [
    "\n",
    "### 5) Første testkall: Anthropic (Claude)\n",
    "\n",
    "Denne cellen bruker **Anthropic Python SDK** og `Messages`-endepunktet. Vi sender en kort melding og skriver ut første tekstblokk i svaret.\n"
   ]
  },
  {
   "cell_type": "code",
   "execution_count": 33,
   "id": "61df0c30",
   "metadata": {},
   "outputs": [
    {
     "name": "stdout",
     "output_type": "stream",
     "text": [
      "Anthropic svar: Anthropic-tilkoblingen fungerer perfekt, og jeg kan kommunisere med deg på norsk uten problemer.\n"
     ]
    }
   ],
   "source": [
    "\n",
    "from anthropic import Anthropic\n",
    "import os\n",
    "\n",
    "anthropic_client = Anthropic(api_key=os.getenv(\"ANTHROPIC_API_KEY\"))\n",
    "\n",
    "user_msg = \"Skriv én setning som bekrefter at Anthropic-tilkoblingen fungerer (på norsk).\"\n",
    "\n",
    "message = anthropic_client.messages.create(\n",
    "    model=\"claude-sonnet-4-20250514\",\n",
    "    max_tokens=200,\n",
    "    messages=[{\"role\": \"user\", \"content\": user_msg}],\n",
    ")\n",
    "\n",
    "# Skriv ut første tekstblokk hvis den finnes\n",
    "text_blocks = [c.text for c in message.content if getattr(c, \"type\", \"\") == \"text\"]\n",
    "print(\"Anthropic svar:\", text_blocks[0] if text_blocks else message)\n"
   ]
  },
  {
   "cell_type": "markdown",
   "id": "13ff7760",
   "metadata": {},
   "source": [
    "\n",
    "### 6) Feilsøking og nyttige råd\n",
    "\n",
    "Hvis du får en feil om manglende nøkler, sjekk at `.env` ligger i samme mappe og at du har kjørt cellen som laster den. Hvis OpenAI eller Anthropic gir en autorisasjonsfeil, kontroller at nøklene faktisk er aktive i konsollene deres, og at du har midler eller kreditter på kontoen. Hvis modellnavnene endrer seg, bytt til et støttet navn fra dokumentasjonen deres. For OpenAI finner du modeller og eksempler i API-dokumentasjonen. For Anthropic ligger modellnavn og parametre i seksjonen *Messages*.\n",
    "\n"
   ]
  },
  {
   "cell_type": "markdown",
   "id": "74291cef",
   "metadata": {},
   "source": [
    "# Jeg kjører i skyen:"
   ]
  },
  {
   "cell_type": "markdown",
   "id": "be5642c8",
   "metadata": {},
   "source": [
    "Kortversjon: i skyen bør du bruke de innebygde “secrets”-løsningene i Colab og Codespaces, og så lese dem som miljøvariabler i notebooken. Ikke last opp `.env`-filer til repoet. Detaljene under dekker begge plattformer, med kopiér-lim-inn-klare snutter."
   ]
  },
  {
   "cell_type": "markdown",
   "id": "98741f74",
   "metadata": {},
   "source": [
    "### Google Colab\n",
    "\n",
    "Colab har en egen Secret-manager i UI-et. Du legger inn nøkler der én gang og henter dem programmatisk i notebooken. Dette er bedre enn å lime inn nøkler i celler eller `.env` i Google Drive. Colab eksponerer hemmeligheter via en liten modul:"
   ]
  },
  {
   "cell_type": "code",
   "execution_count": 34,
   "id": "8b755b29",
   "metadata": {},
   "outputs": [
    {
     "name": "stdout",
     "output_type": "stream",
     "text": [
      "Kjører ikke i Google Colab - sløyfer Colab-spesifikk setup\n",
      "Hvis kjører lokalt, bruk løsningen med en .env fil som vist tidligere\n"
     ]
    }
   ],
   "source": [
    "# Check if running in Colab\n",
    "try:\n",
    "    from google.colab import userdata\n",
    "    # This is Colab-specific code\n",
    "    openai_key = userdata.get(\"OPENAI_API_KEY\")\n",
    "    anthropic_key = userdata.get(\"ANTHROPIC_API_KEY\")\n",
    "\n",
    "    # (valgfritt) speil til miljøvariabler for biblioteker som forventer os.getenv(...)\n",
    "    os.environ[\"OPENAI_API_KEY\"]   = openai_key\n",
    "    os.environ[\"ANTHROPIC_API_KEY\"] = anthropic_key\n",
    "\n",
    "    # Sjekk\n",
    "    if not openai_key or not anthropic_key:\n",
    "        raise RuntimeError(\"Mangler Colab Secrets: legg inn OPENAI_API_KEY og ANTHROPIC_API_KEY i Colab → Secrets.\")\n",
    "except ImportError:\n",
    "    print(\"Kjører ikke i Google Colab - sløyfer Colab-spesifikk setup\")\n",
    "    print(\"Hvis kjører lokalt, bruk løsningen med en .env fil som vist tidligere\")"
   ]
  },
  {
   "cell_type": "markdown",
   "id": "0d71bd3e",
   "metadata": {},
   "source": [
    "Hvor legger man inn? I Colab velger man **Secrets** i venstremenyen, oppretter `OPENAI_API_KEY` og `ANTHROPIC_API_KEY`, og gir notebooken tilgang. Dette grensesnittet er dokumentert og brukt i flere offisielle eksempler; koden over med `from google.colab import userdata` er mønsteret Colab selv viser i autentiserings-notebooks. ([Google Colab][[1](https://colab.research.google.com/github/google-gemini/cookbook/blob/main/quickstarts/Authentication.ipynb?utm_source=chatgpt.com)])\n",
    "\n",
    "Praktiske tips i Colab:\n",
    "\n",
    "* Secrets er knyttet til brukerkontoen, ikke notebooken. Du må selv legge inn dine nøkler. ([Medium][[2](https://drlee.io/how-to-use-secrets-in-google-colab-for-api-key-protection-a-guide-for-openai-huggingface-and-c1ec9e1277e0)])\n",
    "* Runtime resetter miljøet. Secrets består, men du må kjøre cellen som henter dem hver økt. (Dette er forventet i Colab.) ([Google Colab][[1](https://colab.research.google.com/github/google-gemini/cookbook/blob/main/quickstarts/Authentication.ipynb?utm_source=chatgpt.com)])\n",
    "* Håndter gjerne manglende hemmeligheter eksplisitt; `userdata.get()` gir en feil hvis nøkkelen ikke finnes. ([Stack Overflow][[3](https://stackoverflow.com/questions/77554491/catching-messageerror-exception-from-userdata-get-in-google-colaboratory-secre?utm_source=chatgpt.com)])"
   ]
  },
  {
   "cell_type": "markdown",
   "id": "0a31489b",
   "metadata": {},
   "source": [
    "### GitHub Codespaces"
   ]
  },
  {
   "cell_type": "markdown",
   "id": "d1a687f5",
   "metadata": {},
   "source": [
    "Codespaces har “Development environment secrets” på tre nivåer: konto, organisasjon og repo. Når de er definert, dukker de opp som miljøvariabler i Codespace-terminalen og i Python via `os.getenv`. ([GitHub Docs][[4](https://docs.github.com/en/codespaces/managing-your-codespaces/managing-your-account-specific-secrets-for-github-codespaces?utm_source=chatgpt.com)])\n",
    "\n",
    "Oppsett (student): Gå til **Settings → Secrets and variables → Codespaces** på egen GitHub-konto, legg til `OPENAI_API_KEY` og `ANTHROPIC_API_KEY`. I en organisasjon kan man også definere secrets for repo/orga. ([GitHub Docs][[4](https://docs.github.com/en/codespaces/managing-your-codespaces/managing-your-account-specific-secrets-for-github-codespaces?utm_source=chatgpt.com)])\n",
    "\n",
    "Bruk i notebook/kode:"
   ]
  },
  {
   "cell_type": "code",
   "execution_count": 35,
   "id": "50f5768c",
   "metadata": {},
   "outputs": [],
   "source": [
    "import os\n",
    "\n",
    "openai_key = os.getenv(\"OPENAI_API_KEY\")\n",
    "anthropic_key = os.getenv(\"ANTHROPIC_API_KEY\")\n",
    "\n",
    "if not openai_key or not anthropic_key:\n",
    "    raise RuntimeError(\"Mangler Codespaces-secrets. Legg dem til i GitHub → Settings → Secrets and variables → Codespaces.\")"
   ]
  },
  {
   "cell_type": "markdown",
   "id": "33cfd2fe",
   "metadata": {},
   "source": [
    "Anbefalinger (vi vurderer å etablere) for vårt kursrepo:\n",
    "\n",
    "* Legge inn “recommended secrets” i `devcontainer.json` slik at GitHub ber studentene fylle inn når de oppretter en Codespace. ([GitHub Docs][[5](https://docs.github.com/en/codespaces/setting-up-your-project-for-codespaces/configuring-dev-containers/specifying-recommended-secrets-for-a-repository?utm_source=chatgpt.com)])\n",
    "* Dokumentér at secrets blir tilgjengelig som vanlige env-vars i shell og Python; dette er den støttede måten å bruke følsomme verdier i Codespaces. ([GitHub Docs][[6](https://docs.github.com/en/codespaces/developing-in-a-codespace/persisting-environment-variables-and-temporary-files?utm_source=chatgpt.com)])\n",
    "* Vil vurdere å referere secrets i devcontainer-konfig (avansert), slik at de kan de leses via `localEnv`-mekanismer. ([Stack Overflow][[7](https://stackoverflow.com/questions/73052779/using-github-codespaces-secrets-in-devcontainer-json?utm_source=chatgpt.com)])"
   ]
  },
  {
   "cell_type": "markdown",
   "id": "2959a017",
   "metadata": {},
   "source": [
    "### Eksempelsnutter for første kall (begge plattformer)"
   ]
  },
  {
   "cell_type": "markdown",
   "id": "dd27bb5b",
   "metadata": {},
   "source": [
    "OpenAI:"
   ]
  },
  {
   "cell_type": "code",
   "execution_count": 36,
   "id": "f538778f",
   "metadata": {},
   "outputs": [
    {
     "name": "stdout",
     "output_type": "stream",
     "text": [
      "Selv de minste ting kan ha stor betydning.\n"
     ]
    }
   ],
   "source": [
    "from openai import OpenAI\n",
    "import os\n",
    "\n",
    "client = OpenAI(api_key=os.getenv(\"OPENAI_API_KEY\"))\n",
    "resp = client.responses.create(model=\"gpt-4o-mini\", input=\"Skriv én setning som test.\")\n",
    "print(resp.output_text)"
   ]
  },
  {
   "cell_type": "markdown",
   "id": "02e41c26",
   "metadata": {},
   "source": [
    "Anthropic:"
   ]
  },
  {
   "cell_type": "code",
   "execution_count": 37,
   "id": "5ee50bb6",
   "metadata": {},
   "outputs": [
    {
     "name": "stdout",
     "output_type": "stream",
     "text": [
      "Dette er en testsetning skrevet på norsk.\n"
     ]
    }
   ],
   "source": [
    "from anthropic import Anthropic\n",
    "import os\n",
    "\n",
    "client = Anthropic(api_key=os.getenv(\"ANTHROPIC_API_KEY\"))\n",
    "msg = client.messages.create(\n",
    "    model=\"claude-sonnet-4-20250514\",\n",
    "    max_tokens=100,\n",
    "    messages=[{\"role\": \"user\", \"content\": \"Skriv én setning som test.\"}]\n",
    ")\n",
    "print(next((c.text for c in msg.content if getattr(c, \"type\", \"\")==\"text\"), msg))"
   ]
  },
  {
   "cell_type": "markdown",
   "id": "2ddf74f1",
   "metadata": {},
   "source": [
    "### Hva med `.env` i sky?\n",
    "\n",
    "I Colab: ikke nødvendig — bruk Secrets-panelet og `userdata`. En opplastet `.env` i Google Drive er lett å lekke når notebook deles. I Codespaces: du *kan* ha en lokal `.env` i arbeidsmappen, men **ikke** committe den. Preferér Codespaces-secrets, som injiseres som env-vars for alle nye Codespaces-økter. ([GitHub Docs][[6](https://docs.github.com/en/codespaces/developing-in-a-codespace/persisting-environment-variables-and-temporary-files?utm_source=chatgpt.com)])"
   ]
  },
  {
   "cell_type": "markdown",
   "id": "57be53fc",
   "metadata": {},
   "source": [
    "### Vanlige feil og tiltak\n",
    "\n",
    "Hvis OpenAI/Anthropic sier “unauthorized” i Colab: sjekk at du hentet via `userdata.get(...)` og at notebooken har fått tilgang i Secrets-panelet. ([Google Colab][1])\n",
    "Hvis env-vars er tomme i Codespaces: bekreft at du la secrets på riktig nivå (konto/orga/repo), og at du opprettet Codespace *etter* at secrets ble definert, eller at du har restartet terminal/VS Code vindu. ([GitHub Docs][4])"
   ]
  },
  {
   "cell_type": "markdown",
   "id": "30777184",
   "metadata": {
    "vscode": {
     "languageId": "shellscript"
    }
   },
   "source": [
    "**Oppsummert:**\n",
    "\n",
    "Bruk Colab **Secrets + `userdata.get`** i Google Colab; \n",
    "bruk **Codespaces Secrets** i GitHub Codespaces.\n",
    "\n",
    "Les dem inn som miljøvariabler, gjør en eksplisitt nøkkel-sjekk i notebooken, og unngå å laste opp `.env` til repo eller dele nøkler i tekstceller. Dette gir studentene en trygg og forutsigbar flyt i begge skyløsninger. ([Google Colab][[1](https://colab.research.google.com/github/google-gemini/cookbook/blob/main/quickstarts/Authentication.ipynb?utm_source=chatgpt.com)])\n",
    "\n",
    "```text\n",
    "- [1]: https://colab.research.google.com/github/google-gemini/cookbook/blob/main/quickstarts/Authentication.ipynb?utm_source=chatgpt.com \"Gemini API: Authentication Quickstart - Colab - Google\"\n",
    "\n",
    "- [2]: https://drlee.io/how-to-use-secrets-in-google-colab-for-api-key-protection-a-guide-for-openai-huggingface-and-c1ec9e1277e0?utm_source=chatgpt.com \"How to Use Secrets in Google Colab for API Key Protection\"\n",
    "\n",
    "- [3]: https://stackoverflow.com/questions/77554491/catching-messageerror-exception-from-userdata-get-in-google-colaboratory-secre?utm_source=chatgpt.com \"Catching MessageError exception from userdata.get() in ...\"\n",
    "\n",
    "- [4]: https://docs.github.com/en/codespaces/managing-your-codespaces/managing-your-account-specific-secrets-for-github-codespaces?utm_source=chatgpt.com \"Managing your account-specific secrets for GitHub ...\"\n",
    "\n",
    "- [5]: https://docs.github.com/en/codespaces/setting-up-your-project-for-codespaces/configuring-dev-containers/specifying-recommended-secrets-for-a-repository?utm_source=chatgpt.com \"Specifying recommended secrets for a repository\"\n",
    "\n",
    "- [6]: https://docs.github.com/en/codespaces/developing-in-a-codespace/persisting-environment-variables-and-temporary-files?utm_source=chatgpt.com \"Persisting environment variables and temporary files\"\n",
    "\n",
    "- [7]: https://stackoverflow.com/questions/73052779/using-github-codespaces-secrets-in-devcontainer-json?utm_source=chatgpt.com \"Using GitHub Codespaces secrets in devcontainer.json\"\n",
    "```"
   ]
  },
  {
   "cell_type": "markdown",
   "id": "c9704e8f",
   "metadata": {},
   "source": []
  }
 ],
 "metadata": {
  "kernelspec": {
   "display_name": "ai-helse",
   "language": "python",
   "name": "python3"
  },
  "language_info": {
   "codemirror_mode": {
    "name": "ipython",
    "version": 3
   },
   "file_extension": ".py",
   "mimetype": "text/x-python",
   "name": "python",
   "nbconvert_exporter": "python",
   "pygments_lexer": "ipython3",
   "version": "3.12.11"
  }
 },
 "nbformat": 4,
 "nbformat_minor": 5
}
