{
 "cells": [
  {
   "cell_type": "markdown",
   "metadata": {},
   "source": [
    "# 🎓 Klassisk Maskinlæring 101\n",
    "## En enkel introduksjon for helsepersonell\n",
    "\n",
    "`01-klassisk-ml-101.ipynb`\n",
    "\n",
    "### 📚 Hva lærer du i denne notebooken?\n",
    "1. **Hva er maskinlæring?** - Enkle forklaringer uten teknisk sjargong\n",
    "2. **Supervised vs. Unsupervised** - To hovedtyper med helseeksempler\n",
    "3. **Beslutningstrær** - Hvordan datamaskiner \"tenker\" som leger\n",
    "4. **Evaluering** - Hvordan vet vi om modellen er god?\n",
    "5. **Grunnleggende Python** - Bare det du trenger for å forstå\n",
    "\n",
    "### ⏱️ Tidsbruk: 20-30 minutter\n",
    "\n",
    "---"
   ]
  },
  {
   "cell_type": "markdown",
   "metadata": {},
   "source": [
    "## 🤔 Del 1: Hva er maskinlæring egentlig?\n",
    "\n",
    "### Tenk deg dette scenariet:\n",
    "Du er en erfaren sykepleier på en medisinsk avdeling. Gjennom årene har du sett tusenvis av pasienter og begynt å merke mønstre:\n",
    "\n",
    "- Pasienter med høy feber + hvite blodceller > 15 + hodepine → ofte bakteriell infeksjon\n",
    "- Pasienter med brystsmerter + kortpustethet + høy troponin → mulig hjerteinfarkt\n",
    "- Pasienter med tretthet + høy blodsukker + tørste → sannsynligvis diabetes\n",
    "\n",
    "**Dette ER maskinlæring!** Du lærer av erfaring og bruker mønstre til å gjøre prediksjoner.\n",
    "\n",
    "### Forskjellen er:\n",
    "- **Du** bruker hjernen din og årvis erfaring\n",
    "- **Maskinen** bruker matematikk og tusenvis av eksempler\n",
    "\n",
    "Men prinsippet er det samme: **lære av data for å gjøre forutsigelser**."
   ]
  },
  {
   "cell_type": "markdown",
   "metadata": {},
   "source": [
    "## 📊 Del 2: To hovedtyper maskinlæring\n",
    "\n",
    "### 🎯 Supervised Learning (\"Med fasit\")\n",
    "**Analogi:** Som å lære med en lærebok hvor svarene står bak i boka\n",
    "\n",
    "**Eksempel fra medisin:**\n",
    "- **Input:** Symptomer, labverdier, alder\n",
    "- **Output:** Diagnose (som vi allerede kjenner)\n",
    "- **Læring:** Maskinen lærer sammenhengen mellom symptomer og diagnoser\n",
    "- **Bruk:** Predikere diagnose for nye pasienter\n",
    "\n",
    "**Konkrete eksempler:**\n",
    "- Predikere diabetes basert på blodsukker og BMI\n",
    "- Gjenkjenne hudkreft på bilder\n",
    "- Forutsi risiko for hjerteinfarkt\n",
    "\n",
    "---\n",
    "\n",
    "### 🔍 Unsupervised Learning (\"Uten fasit\")\n",
    "**Analogi:** Som å være detektiv og lete etter skjulte mønstre\n",
    "\n",
    "**Eksempel fra medisin:**\n",
    "- **Input:** Bare symptomddata, ingen kjent diagnose\n",
    "- **Læring:** Finn grupper av pasienter som ligner på hverandre\n",
    "- **Bruk:** Oppdage nye sykdomstyper eller pasientgrupper\n",
    "\n",
    "**Konkrete eksempler:**\n",
    "- Finne undergrupper av diabetespasienter\n",
    "- Oppdage ukjente bivirkninger av medisiner\n",
    "- Identifisere nye pandemi-mønstre"
   ]
  },
  {
   "cell_type": "markdown",
   "metadata": {},
   "source": [
    "## 🌳 Del 3: Beslutningstrær - Maskinens \"kliniske resonnering\"\n",
    "\n",
    "### Hvordan tenker du som helsepersonell?\n",
    "```\n",
    "Pasient kommer med brystsmerter\n",
    "↓\n",
    "Er pasienten over 50 år?\n",
    "├─ JA → Høy risiko, sjekk EKG og troponin\n",
    "└─ NEI → Er det anstrengelsesutløst?\n",
    "           ├─ JA → Moderat risiko, stress-test\n",
    "           └─ NEI → Lav risiko, observasjon\n",
    "```\n",
    "\n",
    "### Slik \"tenker\" et beslutningstre:\n",
    "```\n",
    "Pasient med ukjent diabetesstatus\n",
    "↓\n",
    "Er HbA1c > 6.5%?\n",
    "├─ JA → 90% sannsynlighet for diabetes\n",
    "└─ NEI → Er BMI > 30?\n",
    "           ├─ JA → Er alder > 45?\n",
    "           │      ├─ JA → 60% sannsynlighet\n",
    "           │      └─ NEI → 20% sannsynlighet\n",
    "           └─ NEI → 5% sannsynlighet\n",
    "```\n",
    "\n",
    "### Hvorfor er dette bra?\n",
    "- ✅ **Lett å forstå** - følger klinisk logikk\n",
    "- ✅ **Lett å forklare** til pasienter og kolleger\n",
    "- ✅ **Transparent** - du ser hvordan beslutningen tas\n",
    "- ✅ **Rask** - få spørsmål gir svar"
   ]
  },
  {
   "cell_type": "markdown",
   "metadata": {},
   "source": [
    "## 🧮 Del 4: Grunnleggende Python (kun det nødvendige!)\n",
    "\n",
    "Ikke bekymre deg - du trenger ikke å kunne programmere! Her er bare det du trenger for å forstå:"
   ]
  },
  {
   "cell_type": "code",
   "execution_count": 1,
   "metadata": {},
   "outputs": [
    {
     "name": "stdout",
     "output_type": "stream",
     "text": [
      "Pasienten Kari er 65 år gammel\n",
      "BMI: 27.8\n"
     ]
    }
   ],
   "source": [
    "# Dette er en kommentar - Python ignorerer alt etter #\n",
    "# La oss lage enkle eksempler som du forstår:\n",
    "\n",
    "# Variabler - som å skrive på en lapp\n",
    "pasient_alder = 65\n",
    "pasient_navn = \"Kari\"\n",
    "har_diabetes = True  # True = sant, False = usant\n",
    "\n",
    "print(f\"Pasienten {pasient_navn} er {pasient_alder} år gammel\")\n",
    "\n",
    "# Enkle beregninger\n",
    "bmi = 85 / (1.75 ** 2)  # vekt / høyde^2\n",
    "print(f\"BMI: {bmi:.1f}\")"
   ]
  },
  {
   "cell_type": "code",
   "execution_count": 2,
   "metadata": {},
   "outputs": [
    {
     "name": "stdout",
     "output_type": "stream",
     "text": [
      "Første pasient: Anna\n",
      "Første blodsukkermåling: 5.2\n",
      "Vi har 5 pasienter\n"
     ]
    }
   ],
   "source": [
    "# Lister - som en pasientliste\n",
    "blodsukkerverdier = [5.2, 7.8, 6.1, 12.3, 4.9]\n",
    "pasientnavn = [\"Anna\", \"Bjørn\", \"Cecilie\", \"David\", \"Emma\"]\n",
    "\n",
    "print(\"Første pasient:\", pasientnavn[0])  # Python teller fra 0!\n",
    "print(\"Første blodsukkermåling:\", blodsukkerverdier[0])\n",
    "\n",
    "# Hvor mange pasienter?\n",
    "antall_pasienter = len(pasientnavn)\n",
    "print(f\"Vi har {antall_pasienter} pasienter\")"
   ]
  },
  {
   "cell_type": "code",
   "execution_count": 3,
   "metadata": {},
   "outputs": [
    {
     "name": "stdout",
     "output_type": "stream",
     "text": [
      "🚨 Diabetes-diagnose (≥7.0 mmol/L)\n"
     ]
    }
   ],
   "source": [
    "# If-setninger - som kliniske retningslinjer\n",
    "fastende_glukose = 7.5\n",
    "\n",
    "if fastende_glukose >= 7.0:\n",
    "    print(\"🚨 Diabetes-diagnose (≥7.0 mmol/L)\")\n",
    "elif fastende_glukose >= 6.1:\n",
    "    print(\"⚠️  Nedsatt glukosetoleranse (6.1-6.9 mmol/L)\")\n",
    "else:\n",
    "    print(\"✅ Normal fastende glukose (<6.1 mmol/L)\")"
   ]
  },
  {
   "cell_type": "markdown",
   "metadata": {},
   "source": [
    "## 📈 Del 5: Et mini-eksempel med ekte data\n",
    "\n",
    "La oss lage et enkelt eksempel med 5 pasienter:"
   ]
  },
  {
   "cell_type": "code",
   "execution_count": 4,
   "metadata": {},
   "outputs": [
    {
     "name": "stdout",
     "output_type": "stream",
     "text": [
      "📋 Vår pasienttabell:\n",
      "      Navn  Alder   BMI  Fastende_glukose Diabetes\n",
      "0     Anna     45  22.5               5.1      Nei\n",
      "1    Bjørn     67  31.2               8.2       Ja\n",
      "2  Cecilie     34  24.1               4.9      Nei\n",
      "3    David     55  28.7               7.8       Ja\n",
      "4     Emma     72  26.3               6.5  Usikker\n"
     ]
    }
   ],
   "source": [
    "# Last inn biblioteker vi trenger (som å hente fram verktøykassa)\n",
    "import pandas as pd  # For å håndtere data (som Excel)\n",
    "\n",
    "# Lag en liten pasienttabell\n",
    "pasienter = {\n",
    "    'Navn': ['Anna', 'Bjørn', 'Cecilie', 'David', 'Emma'],\n",
    "    'Alder': [45, 67, 34, 55, 72],\n",
    "    'BMI': [22.5, 31.2, 24.1, 28.7, 26.3],\n",
    "    'Fastende_glukose': [5.1, 8.2, 4.9, 7.8, 6.5],\n",
    "    'Diabetes': ['Nei', 'Ja', 'Nei', 'Ja', 'Usikker']\n",
    "}\n",
    "\n",
    "# Gjør om til en tabell (DataFrame)\n",
    "df = pd.DataFrame(pasienter)\n",
    "print(\"📋 Vår pasienttabell:\")\n",
    "print(df)"
   ]
  },
  {
   "cell_type": "code",
   "execution_count": 5,
   "metadata": {},
   "outputs": [
    {
     "name": "stdout",
     "output_type": "stream",
     "text": [
      "🔍 Enkle observasjoner:\n",
      "\n",
      "Pasienter med BMI > 30:\n",
      "  - Bjørn: BMI 31.2, Diabetes: Ja\n",
      "\n",
      "Pasienter med fastende glukose > 7.0:\n",
      "  - Bjørn: 8.2 mmol/L, Diabetes: Ja\n",
      "  - David: 7.8 mmol/L, Diabetes: Ja\n"
     ]
    }
   ],
   "source": [
    "# La oss se på enkle sammenhenger\n",
    "print(\"🔍 Enkle observasjoner:\")\n",
    "print()\n",
    "\n",
    "# Hvem har høy BMI?\n",
    "hoy_bmi = df[df['BMI'] > 30]\n",
    "print(\"Pasienter med BMI > 30:\")\n",
    "for i, row in hoy_bmi.iterrows():\n",
    "    print(f\"  - {row['Navn']}: BMI {row['BMI']}, Diabetes: {row['Diabetes']}\")\n",
    "\n",
    "print()\n",
    "\n",
    "# Hvem har høy blodukker?\n",
    "hoy_sukker = df[df['Fastende_glukose'] > 7.0]\n",
    "print(\"Pasienter med fastende glukose > 7.0:\")\n",
    "for i, row in hoy_sukker.iterrows():\n",
    "    print(f\"  - {row['Navn']}: {row['Fastende_glukose']} mmol/L, Diabetes: {row['Diabetes']}\")"
   ]
  },
  {
   "cell_type": "markdown",
   "metadata": {},
   "source": [
    "## 🎯 Del 6: Evaluering - Hvor god er modellen?\n",
    "\n",
    "### De fire mulige utfallene (Confusion Matrix):\n",
    "\n",
    "```\n",
    "                    VIRKELIGHET\n",
    "                 Har IKKE diabetes  |  Har diabetes\n",
    "MODELL  Nei    |   ✅ RIKTIG      |   ❌ FEIL\n",
    "SIER    Ja     |   ❌ FEIL        |   ✅ RIKTIG\n",
    "```\n",
    "\n",
    "### Medisinsk terminologi:\n",
    "- **Sant Negative (SN):** Friske som testes negative ✅\n",
    "- **Sant Positive (SP):** Syke som testes positive ✅  \n",
    "- **Falsk Positive (FP):** Friske som testes positive ❌ (\"falsk alarm\")\n",
    "- **Falsk Negative (FN):** Syke som testes negative ❌ (\"gått glipp av\")\n",
    "\n",
    "### Viktige metrikker:\n",
    "\n",
    "**🎯 Sensitivitet = SP / (SP + FN)**\n",
    "- \"Hvor mange syke fanger vi opp?\"\n",
    "- Eksempel: 85% sensitivitet = vi finner 85 av 100 diabetikere\n",
    "\n",
    "**🎯 Spesifisitet = SN / (SN + FP)**  \n",
    "- \"Hvor mange friske identifiserer vi korrekt?\"\n",
    "- Eksempel: 90% spesifisitet = vi sier korrekt at 90 av 100 friske IKKE har diabetes"
   ]
  },
  {
   "cell_type": "code",
   "execution_count": 6,
   "metadata": {},
   "outputs": [
    {
     "name": "stdout",
     "output_type": "stream",
     "text": [
      "📊 Eksempel på modell-evaluering:\n",
      "\n",
      "Vi testet modellen på 100 nye pasienter:\n",
      "\n",
      "📈 Sensitivitet: 80.0%\n",
      "   → Vi oppdaget 40 av 50 diabetikere\n",
      "\n",
      "📈 Spesifisitet: 90.0%\n",
      "   → Vi identifiserte korrekt 45 av 50 friske\n",
      "\n",
      "🤔 Hva betyr dette i praksis?\n",
      "   - 10 diabetikere får ikke behandling (alvorlig!)\n",
      "   - 5 friske får unødvendig bekymring og testing\n"
     ]
    }
   ],
   "source": [
    "# Et enkelt eksempel på evaluering\n",
    "print(\"📊 Eksempel på modell-evaluering:\")\n",
    "print()\n",
    "print(\"Vi testet modellen på 100 nye pasienter:\")\n",
    "print()\n",
    "\n",
    "# Resultater\n",
    "sant_positive = 40    # Diabetikere som ble oppdaget\n",
    "falsk_negative = 10   # Diabetikere som ble savnet\n",
    "sant_negative = 45    # Friske som ble identifisert korrekt\n",
    "falsk_positive = 5    # Friske som fikk feil diagnose\n",
    "\n",
    "# Beregn metrikker\n",
    "sensitivitet = sant_positive / (sant_positive + falsk_negative)\n",
    "spesifisitet = sant_negative / (sant_negative + falsk_positive)\n",
    "\n",
    "print(f\"📈 Sensitivitet: {sensitivitet:.1%}\")\n",
    "print(f\"   → Vi oppdaget {sant_positive} av {sant_positive + falsk_negative} diabetikere\")\n",
    "print()\n",
    "print(f\"📈 Spesifisitet: {spesifisitet:.1%}\")\n",
    "print(f\"   → Vi identifiserte korrekt {sant_negative} av {sant_negative + falsk_positive} friske\")\n",
    "print()\n",
    "print(\"🤔 Hva betyr dette i praksis?\")\n",
    "print(f\"   - {falsk_negative} diabetikere får ikke behandling (alvorlig!)\")\n",
    "print(f\"   - {falsk_positive} friske får unødvendig bekymring og testing\")"
   ]
  },
  {
   "cell_type": "markdown",
   "metadata": {},
   "source": [
    "## ⚖️ Del 7: Avveininger i medisin\n",
    "\n",
    "### Hva er verst - false positive eller false negative?\n",
    "\n",
    "**Det kommer an på situasjonen!**\n",
    "\n",
    "#### False Negative er verst ved:\n",
    "- **Cancer-screening** 🎗️ (går glipp av kreft)\n",
    "- **Hjerteinfarkt** 💔 (sender hjem pasient som trenger akutt behandling)\n",
    "- **Sepsis** 🦠 (livstruende infeksjon)\n",
    "\n",
    "→ **Prioriter høy sensitivitet**\n",
    "\n",
    "#### False Positive er verst ved:\n",
    "- **Sjeldne sykdommer** 🔬 (mange får unødvendig angst)\n",
    "- **Dyre oppfølginger** 💰 (sløser ressurser)\n",
    "- **Invasive prosedyrer** ⚕️ (unødvendig risiko)\n",
    "\n",
    "→ **Prioriter høy spesifisitet**\n",
    "\n",
    "### For diabetes-screening:\n",
    "- Moderat alvorlighet\n",
    "- God behandling tilgjengelig  \n",
    "- **Balanse:** Vi ønsker både høy sensitivitet og spesifisitet"
   ]
  },
  {
   "cell_type": "markdown",
   "metadata": {},
   "source": [
    "## 🎓 Del 8: Sammendrag - Hva har du lært?\n",
    "\n",
    "### 🧠 Maskinlæring:\n",
    "- Er som klinisk erfaring, bare med matematikk istedenfor intuisjon\n",
    "- Lærer mønstre fra store datamengder\n",
    "- Kan støtte (ikke erstatte) klinisk dømmekraft\n",
    "\n",
    "### 📊 To hovedtyper:\n",
    "- **Supervised:** Lærer med \"fasit\" (predikere diabetes fra symptomer)\n",
    "- **Unsupervised:** Finner skjulte mønstre (oppdage pasientgrupper)\n",
    "\n",
    "### 🌳 Beslutningstrær:\n",
    "- Følger klinisk logikk (hvis-så-resonnering)\n",
    "- Lett å forstå og forklare\n",
    "- Transparent beslutningsprosess\n",
    "\n",
    "### 🎯 Evaluering:\n",
    "- **Sensitivitet:** Hvor mange syke fanger vi?\n",
    "- **Spesifisitet:** Hvor mange friske identifiserer vi korrekt?\n",
    "- **Avveining:** Hva er verst - false positive eller false negative?\n",
    "\n",
    "### 🔮 Du er nå klar for:\n",
    "- Den mer avanserte notebooken `02-fra-symptom-til-diagnose.ipynb`\n",
    "- Å forstå hvordan AI kan brukes i din kliniske praksis\n",
    "- Å delta i diskusjoner om AI i helsevesenet\n",
    "\n",
    "---\n",
    "\n",
    "## 🚀 Neste steg:\n",
    "Gå nå til `02-fra-symptom-til-diagnose.ipynb` hvor vi bygger en ekte diabetes-prediksjonsmodell med 1000 pasienter!\n",
    "\n",
    "**Husk:** Du trenger ikke å forstå all koden - fokuser på konseptene og hvordan de kan brukes i praksis. 🏥"
   ]
  },
  {
   "cell_type": "markdown",
   "metadata": {},
   "source": []
  },
  {
   "cell_type": "markdown",
   "metadata": {},
   "source": []
  }
 ],
 "metadata": {
  "kernelspec": {
   "display_name": "ai-helse",
   "language": "python",
   "name": "python3"
  },
  "language_info": {
   "codemirror_mode": {
    "name": "ipython",
    "version": 3
   },
   "file_extension": ".py",
   "mimetype": "text/x-python",
   "name": "python",
   "nbconvert_exporter": "python",
   "pygments_lexer": "ipython3",
   "version": "3.12.11"
  }
 },
 "nbformat": 4,
 "nbformat_minor": 4
}
