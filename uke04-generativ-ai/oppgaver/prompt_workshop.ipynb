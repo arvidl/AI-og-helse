{
 "cells": [
  {
   "cell_type": "markdown",
   "id": "f289ab50",
   "metadata": {},
   "source": [
    "# 🎯 Prompt Workshop - Praktiske Øvelser\n",
    "\n",
    "## Læringsmål\n",
    "- Øve på å skrive effektive prompts for medisinske oppgaver\n",
    "- Eksperimentere med ulike prompt-teknikker\n",
    "- Evaluere og forbedre AI-responser\n",
    "- Forstå begrensninger og muligheter\n",
    "\n",
    "Dette er en interaktiv workshop hvor du skal teste og forbedre prompts!"
   ]
  },
  {
   "cell_type": "code",
   "execution_count": 1,
   "id": "3e7342a5",
   "metadata": {},
   "outputs": [
    {
     "name": "stdout",
     "output_type": "stream",
     "text": [
      "🎯 Prompt Workshop - La oss eksperimentere!\n"
     ]
    }
   ],
   "source": [
    "import os\n",
    "from openai import OpenAI\n",
    "import json\n",
    "from typing import List, Dict\n",
    "\n",
    "# Setup\n",
    "client = OpenAI() if os.getenv(\"OPENAI_API_KEY\") else None\n",
    "\n",
    "def test_prompt(prompt: str, temperature: float = 0.7) -> str:\n",
    "    \"\"\"Test en prompt og returner respons\"\"\"\n",
    "    if not client:\n",
    "        return f\"[Simulert respons for: {prompt[:50]}...]\"\n",
    "    \n",
    "    try:\n",
    "        response = client.chat.completions.create(\n",
    "            model=\"gpt-3.5-turbo\",\n",
    "            messages=[{\"role\": \"user\", \"content\": prompt}],\n",
    "            temperature=temperature\n",
    "        )\n",
    "        return response.choices[0].message.content\n",
    "    except Exception as e:\n",
    "        return f\"Feil: {e}\"\n",
    "\n",
    "print(\"🎯 Prompt Workshop - La oss eksperimentere!\")"
   ]
  },
  {
   "cell_type": "markdown",
   "id": "fa09e4c7",
   "metadata": {},
   "source": [
    "## Øvelse 1: Forbedre en dårlig prompt\n",
    "\n",
    "Her er en vag prompt. Din oppgave er å forbedre den!"
   ]
  },
  {
   "cell_type": "code",
   "execution_count": 2,
   "id": "df1692d5",
   "metadata": {},
   "outputs": [
    {
     "name": "stdout",
     "output_type": "stream",
     "text": [
      "❌ Vag prompt:\n",
      "[Simulert respons for: Fortell meg om diabetes...]\n",
      "\n",
      "✅ Forbedret prompt:\n"
     ]
    }
   ],
   "source": [
    "# Dårlig prompt\n",
    "vag_prompt = \"Fortell meg om diabetes\"\n",
    "\n",
    "# Test den vage prompten\n",
    "print(\"❌ Vag prompt:\")\n",
    "print(test_prompt(vag_prompt))\n",
    "\n",
    "# Din forbedrede versjon\n",
    "forbedret_prompt = \"\"\"\n",
    "[SKRIV DIN FORBEDREDE PROMPT HER]\n",
    "\n",
    "Tips:\n",
    "- Spesifiser målgruppe\n",
    "- Definer format\n",
    "- Begrens omfang\n",
    "- Be om struktur\n",
    "\"\"\"\n",
    "\n",
    "# Test forbedringen\n",
    "print(\"\\n✅ Forbedret prompt:\")\n",
    "# print(test_prompt(forbedret_prompt))"
   ]
  },
  {
   "cell_type": "markdown",
   "id": "da96ca42",
   "metadata": {},
   "source": [
    "### Løsningsforslag"
   ]
  },
  {
   "cell_type": "code",
   "execution_count": 3,
   "id": "5387079f",
   "metadata": {},
   "outputs": [
    {
     "name": "stdout",
     "output_type": "stream",
     "text": [
      "✨ Eksempel på forbedret prompt:\n",
      "[Simulert respons for: \n",
      "Du er en sykepleier som forklarer til en nydiagno...]\n"
     ]
    }
   ],
   "source": [
    "# Eksempel på god prompt\n",
    "god_prompt = \"\"\"\n",
    "Du er en sykepleier som forklarer til en nydiagnostisert pasient.\n",
    "\n",
    "Forklar diabetes type 2 på en enkel måte som dekker:\n",
    "1. Hva som skjer i kroppen (2-3 setninger)\n",
    "2. Vanlige symptomer (punktliste)\n",
    "3. Hvorfor behandling er viktig (2 setninger)\n",
    "4. Tre livsstilsråd de kan starte med i dag\n",
    "\n",
    "Bruk vennlig tone, unngå skremming, maks 150 ord totalt.\n",
    "\"\"\"\n",
    "\n",
    "print(\"✨ Eksempel på forbedret prompt:\")\n",
    "print(test_prompt(god_prompt, temperature=0.3))"
   ]
  },
  {
   "cell_type": "markdown",
   "id": "581d3f1d",
   "metadata": {},
   "source": [
    "## Øvelse 2: Few-shot learning for triage\n",
    "\n",
    "Lag et few-shot prompt-system for å klassifisere hastegrad."
   ]
  },
  {
   "cell_type": "code",
   "execution_count": 4,
   "id": "b7b12df0",
   "metadata": {},
   "outputs": [],
   "source": [
    "def create_triage_prompt(symptom_beskrivelse: str) -> str:\n",
    "    \"\"\"\n",
    "    Lag en few-shot prompt for triage-klassifisering\n",
    "    \n",
    "    Fyll inn eksempler nedenfor!\n",
    "    \"\"\"\n",
    "    prompt = f\"\"\"\n",
    "    Klassifiser hastegrad som RØD (øyeblikkelig), GUL (haster), eller GRØNN (kan vente).\n",
    "    \n",
    "    Eksempler:\n",
    "    Symptomer: Brystsmerter med utstråling til arm, svetting, kvalm\n",
    "    Klassifisering: RØD\n",
    "    \n",
    "    Symptomer: Sår hals i 3 dager, lett feber, ingen pustevansker\n",
    "    Klassifisering: GRØNN\n",
    "    \n",
    "    [LEGG TIL MINST 2 EKSEMPLER TIL HER]\n",
    "    \n",
    "    Symptomer: {symptom_beskrivelse}\n",
    "    Klassifisering:\"\"\"\n",
    "    \n",
    "    return prompt"
   ]
  },
  {
   "cell_type": "code",
   "execution_count": 5,
   "id": "fb2c90e7",
   "metadata": {},
   "outputs": [
    {
     "name": "stdout",
     "output_type": "stream",
     "text": [
      "\n",
      "📋 Symptom: Hodepine som har vart i 2 uker, forverres om morgenen\n",
      "🚦 Klassifisering: [Simulert respons for: \n",
      "    Klassifiser hastegrad som RØD (øyeblikkelig),...]\n",
      "\n",
      "📋 Symptom: Plutselig synstap på ett øye for 20 minutter siden\n",
      "🚦 Klassifisering: [Simulert respons for: \n",
      "    Klassifiser hastegrad som RØD (øyeblikkelig),...]\n",
      "\n",
      "📋 Symptom: Kløe og utslett etter å ha spist skalldyr\n",
      "🚦 Klassifisering: [Simulert respons for: \n",
      "    Klassifiser hastegrad som RØD (øyeblikkelig),...]\n"
     ]
    }
   ],
   "source": [
    "# Test med ulike symptomer\n",
    "test_symptomer = [\n",
    "    \"Hodepine som har vart i 2 uker, forverres om morgenen\",\n",
    "    \"Plutselig synstap på ett øye for 20 minutter siden\",\n",
    "    \"Kløe og utslett etter å ha spist skalldyr\"\n",
    "]\n",
    "\n",
    "for symptom in test_symptomer:\n",
    "    prompt = create_triage_prompt(symptom)\n",
    "    print(f\"\\n📋 Symptom: {symptom}\")\n",
    "    print(f\"🚦 Klassifisering: {test_prompt(prompt, temperature=0)}\")"
   ]
  },
  {
   "cell_type": "markdown",
   "id": "9c0f964c",
   "metadata": {},
   "source": [
    "## Øvelse 3: Chain-of-Thought for differensialdiagnose\n",
    "\n",
    "Implementer CoT for å resonere seg frem til mulige diagnoser."
   ]
  },
  {
   "cell_type": "code",
   "execution_count": 6,
   "id": "6271478e",
   "metadata": {},
   "outputs": [],
   "source": [
    "def differential_diagnosis_cot(case: str) -> str:\n",
    "    \"\"\"\n",
    "    Lag en Chain-of-Thought prompt for differensialdiagnose\n",
    "    \"\"\"\n",
    "    prompt = f\"\"\"\n",
    "    Analyser følgende case steg-for-steg:\n",
    "    \n",
    "    {case}\n",
    "    \n",
    "    Følg denne tankeprosessen:\n",
    "    \n",
    "    1. IDENTIFISER hovedsymptomer:\n",
    "       [List opp de viktigste symptomene]\n",
    "    \n",
    "    2. VURDER tidsforløp:\n",
    "       [Akutt vs kronisk, progresjon]\n",
    "    \n",
    "    3. RELEVANTE risikofaktorer:\n",
    "       [Alder, kjønn, historie, livsstil]\n",
    "    \n",
    "    4. MULIGE systemer involvert:\n",
    "       [Hvilke organsystemer kan være påvirket]\n",
    "    \n",
    "    5. DIFFERENSIALDIAGNOSER (mest til minst sannsynlig):\n",
    "       [List 3-5 mulige diagnoser med kort begrunnelse]\n",
    "    \n",
    "    6. RØDE FLAGG å se etter:\n",
    "       [Hva ville krevd øyeblikkelig handling]\n",
    "    \n",
    "    Vis din resonnering for hvert steg.\n",
    "    \"\"\"\n",
    "    \n",
    "    return prompt"
   ]
  },
  {
   "cell_type": "code",
   "execution_count": 7,
   "id": "d2ae8973",
   "metadata": {},
   "outputs": [
    {
     "name": "stdout",
     "output_type": "stream",
     "text": [
      "🔍 Differensialdiagnose med Chain-of-Thought:\n",
      "[Simulert respons for: \n",
      "    Analyser følgende case steg-for-steg:\n",
      "\n",
      "    \n",
      "4...]\n"
     ]
    }
   ],
   "source": [
    "# Test case\n",
    "case = \"\"\"\n",
    "45 år gammel kvinne, tidligere frisk.\n",
    "Siste 3 måneder: Tretthet, 5 kg vekttap, nattesvette.\n",
    "Siste uke: Hovne lymfeknuter på halsen, ingen smerter.\n",
    "Ikke-røyker, moderat alkohol, ingen reiser.\n",
    "\"\"\"\n",
    "\n",
    "cot_prompt = differential_diagnosis_cot(case)\n",
    "print(\"🔍 Differensialdiagnose med Chain-of-Thought:\")\n",
    "print(test_prompt(cot_prompt, temperature=0.2))"
   ]
  },
  {
   "cell_type": "markdown",
   "id": "b0e38d37",
   "metadata": {},
   "source": [
    "## Øvelse 4: Prompt med sikkerhetsinstruksjoner\n",
    "\n",
    "Lag prompts som inkluderer viktige sikkerhetshensyn."
   ]
  },
  {
   "cell_type": "code",
   "execution_count": 8,
   "id": "3e93a4d9",
   "metadata": {},
   "outputs": [],
   "source": [
    "def safe_medical_prompt(question: str) -> str:\n",
    "    \"\"\"\n",
    "    Wrapper som legger til sikkerhetsinstruksjoner\n",
    "    \"\"\"\n",
    "    safety_instructions = \"\"\"\n",
    "    VIKTIGE RETNINGSLINJER:\n",
    "    1. Dine svar er kun veiledende og erstatter IKKE medisinsk konsultasjon\n",
    "    2. Ved akutte symptomer: Alltid anbefale å kontakte lege/113\n",
    "    3. Aldri gi spesifikke medisindoseringer uten legetilsyn\n",
    "    4. Vær tydelig på usikkerhet og begrensninger\n",
    "    5. Henvis til helsepersonell ved behov\n",
    "    \"\"\"\n",
    "    \n",
    "    prompt = f\"\"\"\n",
    "    {safety_instructions}\n",
    "    \n",
    "    Spørsmål fra bruker: {question}\n",
    "    \n",
    "    Svar på en ansvarlig måte som følger retningslinjene ovenfor.\n",
    "    \"\"\"\n",
    "    \n",
    "    return prompt"
   ]
  },
  {
   "cell_type": "code",
   "execution_count": 9,
   "id": "7ebe99fe",
   "metadata": {},
   "outputs": [
    {
     "name": "stdout",
     "output_type": "stream",
     "text": [
      "\n",
      "❓ Spørsmål: Hvor mye paracetamol kan jeg ta for sterke smerter?\n",
      "✅ Trygt svar: [Simulert respons for: \n",
      "    \n",
      "    VIKTIGE RETNINGSLINJER:\n",
      "    1. Dine svar...]\n",
      "\n",
      "❓ Spørsmål: Jeg har brystsmerter, skal jeg vente til i morgen?\n",
      "✅ Trygt svar: [Simulert respons for: \n",
      "    \n",
      "    VIKTIGE RETNINGSLINJER:\n",
      "    1. Dine svar...]\n",
      "\n",
      "❓ Spørsmål: Kan jeg slutte med antidepressiva selv?\n",
      "✅ Trygt svar: [Simulert respons for: \n",
      "    \n",
      "    VIKTIGE RETNINGSLINJER:\n",
      "    1. Dine svar...]\n"
     ]
    }
   ],
   "source": [
    "# Test med potensielt problematiske spørsmål\n",
    "risky_questions = [\n",
    "    \"Hvor mye paracetamol kan jeg ta for sterke smerter?\",\n",
    "    \"Jeg har brystsmerter, skal jeg vente til i morgen?\",\n",
    "    \"Kan jeg slutte med antidepressiva selv?\"\n",
    "]\n",
    "\n",
    "for q in risky_questions:\n",
    "    print(f\"\\n❓ Spørsmål: {q}\")\n",
    "    safe_prompt = safe_medical_prompt(q)\n",
    "    print(f\"✅ Trygt svar: {test_prompt(safe_prompt, temperature=0.2)}\")"
   ]
  },
  {
   "cell_type": "markdown",
   "id": "41a08b41",
   "metadata": {},
   "source": [
    "## Øvelse 5: Evaluere og sammenligne prompts\n",
    "\n",
    "Lag et system for å evaluere prompt-kvalitet."
   ]
  },
  {
   "cell_type": "code",
   "execution_count": 11,
   "id": "2065ed5a",
   "metadata": {},
   "outputs": [],
   "source": [
    "def evaluate_prompts(prompts: List[str], criteria: List[str]) -> Dict:\n",
    "    \"\"\"\n",
    "    Evaluer flere prompts mot gitte kriterier\n",
    "    \"\"\"\n",
    "    evaluation = {}\n",
    "    \n",
    "    for i, prompt in enumerate(prompts, 1):\n",
    "        print(f\"\\n📝 Evaluerer prompt {i}...\")\n",
    "        \n",
    "        eval_prompt = f\"\"\"\n",
    "        Evaluer følgende prompt på en skala 1-5 for hvert kriterium:\n",
    "        \n",
    "        PROMPT:\n",
    "        {prompt}\n",
    "        \n",
    "        KRITERIER:\n",
    "        {chr(10).join(f\"- {c}\" for c in criteria)}\n",
    "        \n",
    "        Gi score og kort begrunnelse for hver.\n",
    "        Format: Kriterium: Score/5 - Begrunnelse\n",
    "        \"\"\"\n",
    "        \n",
    "        evaluation[f\"prompt_{i}\"] = test_prompt(eval_prompt, temperature=0)\n",
    "    \n",
    "    return evaluation"
   ]
  },
  {
   "cell_type": "code",
   "execution_count": 12,
   "id": "a611545d",
   "metadata": {},
   "outputs": [
    {
     "name": "stdout",
     "output_type": "stream",
     "text": [
      "\n",
      "📝 Evaluerer prompt 1...\n",
      "\n",
      "📝 Evaluerer prompt 2...\n",
      "\n",
      "prompt_1:\n",
      "[Simulert respons for: \n",
      "        Evaluer følgende prompt på en skala 1-5 f...]\n",
      "\n",
      "prompt_2:\n",
      "[Simulert respons for: \n",
      "        Evaluer følgende prompt på en skala 1-5 f...]\n"
     ]
    }
   ],
   "source": [
    "# Definer evalueringskriterier\n",
    "kriterier = [\n",
    "    \"Klarhet og spesifisitet\",\n",
    "    \"Medisinsk korrekthet\",\n",
    "    \"Pasientvennlighet\",\n",
    "    \"Sikkerhetshensyn\",\n",
    "    \"Praktisk anvendbarhet\"\n",
    "]\n",
    "\n",
    "# Test med to ulike prompts for samme oppgave\n",
    "prompt_v1 = \"Forklar hva antibiotika er\"\n",
    "\n",
    "prompt_v2 = \"\"\"\n",
    "Du er en allmennlege som forklarer til en pasient med ørebetennelse.\n",
    "\n",
    "Forklar:\n",
    "1. Hva antibiotika er (2-3 setninger, enkelt språk)\n",
    "2. Hvorfor det er foreskrevet for deres tilstand\n",
    "3. Viktigheten av å fullføre kuren\n",
    "4. Vanlige bivirkninger å se etter\n",
    "\n",
    "Tone: Vennlig og beroligende\n",
    "Lengde: Maks 100 ord\n",
    "\"\"\"\n",
    "\n",
    "# Evaluer\n",
    "resultater = evaluate_prompts([prompt_v1, prompt_v2], kriterier)\n",
    "for key, value in resultater.items():\n",
    "    print(f\"\\n{key}:\")\n",
    "    print(value)"
   ]
  },
  {
   "cell_type": "markdown",
   "id": "53279de0",
   "metadata": {},
   "source": [
    "## 🏆 Sluttøvelse: Lag din egen avanserte prompt\n",
    "\n",
    "Oppgave: Design en prompt for en kompleks medisinsk oppgave du velger selv.\n",
    "\n",
    "Krav:\n",
    "1. Bruk minst 3 prompt-teknikker\n",
    "2. Inkluder sikkerhetsinstruksjoner\n",
    "3. Definer tydelig output-format\n",
    "4. Test med edge cases"
   ]
  },
  {
   "cell_type": "code",
   "execution_count": 14,
   "id": "517a86fa",
   "metadata": {},
   "outputs": [],
   "source": [
    "# Din avanserte prompt her\n",
    "min_avanserte_prompt = \"\"\"\n",
    "[SKRIV DIN PROMPT HER]\n",
    "\n",
    "Ideer:\n",
    "- Medisininteraksjon-sjekker\n",
    "- Symptom-dagbok analyse\n",
    "- Rehabiliteringsplan generator\n",
    "- Ernæringsråd for spesifikke tilstander\n",
    "- Mental helse screening\n",
    "\"\"\"\n",
    "\n",
    "# Test den\n",
    "# resultat = test_prompt(min_avanserte_prompt)\n",
    "# print(resultat)"
   ]
  },
  {
   "cell_type": "markdown",
   "id": "7add05be",
   "metadata": {},
   "source": [
    "## 📊 Oppsummering og refleksjon\n",
    "\n",
    "### Hva har vi lært?\n",
    "1. **Spesifisitet** gir bedre resultater\n",
    "2. **Eksempler** (few-shot) forbedrer ytelse\n",
    "3. **Struktur** i prompts gir struktur i svar\n",
    "4. **Sikkerhet** må alltid inkluderes i medisinske prompts\n",
    "5. **Iterasjon** er nøkkelen - test og forbedre!\n",
    "\n",
    "### Videre eksperimentering\n",
    "- Prøv samme prompt med ulik temperature\n",
    "- Test på edge cases og uventede inputs\n",
    "- Kombiner flere teknikker\n",
    "- Sammenlign GPT-3.5, GPT-4 og Claude\n",
    "\n",
    "### Etisk refleksjon\n",
    "- Hvordan sikre at AI ikke overskrider sin kompetanse?\n",
    "- Når bør AI IKKE brukes i helsevesenet?\n",
    "- Hvordan bevare menneskelig tilsyn og ansvar?\n",
    "\n",
    "**Husk:** AI er et verktøy som forsterker, ikke erstatter, klinisk kompetanse!"
   ]
  },
  {
   "cell_type": "markdown",
   "id": "aaf89ab1",
   "metadata": {},
   "source": []
  }
 ],
 "metadata": {
  "kernelspec": {
   "display_name": "ai-helse",
   "language": "python",
   "name": "python3"
  },
  "language_info": {
   "codemirror_mode": {
    "name": "ipython",
    "version": 3
   },
   "file_extension": ".py",
   "mimetype": "text/x-python",
   "name": "python",
   "nbconvert_exporter": "python",
   "pygments_lexer": "ipython3",
   "version": "3.12.11"
  }
 },
 "nbformat": 4,
 "nbformat_minor": 5
}
