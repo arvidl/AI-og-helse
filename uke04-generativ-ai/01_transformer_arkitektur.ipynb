{
 "cells": [
  {
   "cell_type": "markdown",
   "id": "c3075868",
   "metadata": {},
   "source": [
    "## 📓 01_transformer_arkitektur.ipynb"
   ]
  },
  {
   "cell_type": "markdown",
   "id": "02150846",
   "metadata": {},
   "source": [
    "# 🧠 Transformer-arkitekturen: Grunnlaget for moderne AI\n",
    "\n",
    "## Læringsmål\n",
    "- Forstå self-attention mekanismen\n",
    "- Visualisere hvordan transformers prosesserer tekst\n",
    "- Koble arkitekturen til praktisk bruk i helsevesenet"
   ]
  },
  {
   "cell_type": "code",
   "execution_count": 2,
   "id": "1e5cf0bd",
   "metadata": {},
   "outputs": [
    {
     "name": "stdout",
     "output_type": "stream",
     "text": [
      "📚 Transformer-arkitektur - La oss starte!\n"
     ]
    }
   ],
   "source": [
    "import numpy as np\n",
    "import matplotlib.pyplot as plt\n",
    "import torch\n",
    "import torch.nn as nn\n",
    "\n",
    "print(\"📚 Transformer-arkitektur - La oss starte!\")"
   ]
  },
  {
   "cell_type": "markdown",
   "id": "c65b59a6",
   "metadata": {},
   "source": [
    "## Hva er Attention?\n",
    "\n",
    "Attention lar modellen fokusere på relevante deler av inputen.\n",
    "I medisinsk kontekst: Når vi leser \"pasienten har diabetes\", \n",
    "må AI forstå at \"diabetes\" er relatert til \"pasienten\"."
   ]
  },
  {
   "cell_type": "code",
   "execution_count": 4,
   "id": "c66f3d4f",
   "metadata": {},
   "outputs": [
    {
     "data": {
      "image/png": "[encoded data removed]",
      "text/plain": [
       "<Figure size 1000x300 with 1 Axes>"
      ]
     },
     "metadata": {},
     "output_type": "display_data"
    },
    {
     "name": "stdout",
     "output_type": "stream",
     "text": [
      "Høyest attention: type\n"
     ]
    }
   ],
   "source": [
    "# Enkel demonstrasjon av attention\n",
    "def simple_attention(query, keys, values):\n",
    "    \"\"\"\n",
    "    Forenklet attention-mekanisme\n",
    "    \"\"\"\n",
    "    # Beregn likhet mellom query og keys\n",
    "    scores = np.dot(query, keys.T)\n",
    "    \n",
    "    # Normaliser med softmax\n",
    "    weights = np.exp(scores) / np.sum(np.exp(scores))\n",
    "    \n",
    "    # Vektet sum av values\n",
    "    output = np.dot(weights, values)\n",
    "    \n",
    "    return output, weights\n",
    "\n",
    "# Eksempel: Medisinsk setning\n",
    "words = [\"Pasienten\", \"har\", \"alvorlig\", \"diabetes\", \"type\", \"2\"]\n",
    "word_embeddings = np.random.randn(6, 4)  # 6 ord, 4 dimensjoner\n",
    "\n",
    "# La oss finne attention for ordet \"diabetes\"\n",
    "query_idx = 3  # \"diabetes\"\n",
    "query = word_embeddings[query_idx]\n",
    "\n",
    "output, attention_weights = simple_attention(\n",
    "    query, word_embeddings, word_embeddings\n",
    ")\n",
    "\n",
    "# Visualiser attention\n",
    "plt.figure(figsize=(10, 3))\n",
    "plt.bar(words, attention_weights)\n",
    "plt.title(f'Attention-vekter for ordet \"{words[query_idx]}\"')\n",
    "plt.ylabel('Attention-vekt')\n",
    "plt.xticks(rotation=45)\n",
    "plt.tight_layout()\n",
    "plt.show()\n",
    "\n",
    "print(f\"Høyest attention: {words[np.argmax(attention_weights)]}\")"
   ]
  },
  {
   "cell_type": "markdown",
   "id": "0cd730b4",
   "metadata": {},
   "source": [
    "## Multi-Head Attention\n",
    "\n",
    "I praksis bruker transformers multiple attention \"heads\" \n",
    "som kan fokusere på ulike aspekter samtidig:\n",
    "- Head 1: Grammatiske relasjoner\n",
    "- Head 2: Semantiske koblinger\n",
    "- Head 3: Medisinsk terminologi"
   ]
  },
  {
   "cell_type": "code",
   "execution_count": 5,
   "id": "8554b99c",
   "metadata": {},
   "outputs": [
    {
     "name": "stdout",
     "output_type": "stream",
     "text": [
      "Transformer-blokk opprettet med 3,152,384 parametere\n"
     ]
    }
   ],
   "source": [
    "class SimpleTransformerBlock(nn.Module):\n",
    "    \"\"\"Forenklet transformer-blokk for demonstrasjon\"\"\"\n",
    "    \n",
    "    def __init__(self, d_model=512, n_heads=8):\n",
    "        super().__init__()\n",
    "        self.attention = nn.MultiheadAttention(d_model, n_heads)\n",
    "        self.norm1 = nn.LayerNorm(d_model)\n",
    "        self.norm2 = nn.LayerNorm(d_model)\n",
    "        self.feed_forward = nn.Sequential(\n",
    "            nn.Linear(d_model, 2048),\n",
    "            nn.ReLU(),\n",
    "            nn.Linear(2048, d_model)\n",
    "        )\n",
    "    \n",
    "    def forward(self, x):\n",
    "        # Self-attention\n",
    "        attn_output, _ = self.attention(x, x, x)\n",
    "        x = self.norm1(x + attn_output)\n",
    "        \n",
    "        # Feed-forward\n",
    "        ff_output = self.feed_forward(x)\n",
    "        x = self.norm2(x + ff_output)\n",
    "        \n",
    "        return x\n",
    "\n",
    "# Demonstrer\n",
    "model = SimpleTransformerBlock()\n",
    "print(f\"Transformer-blokk opprettet med {sum(p.numel() for p in model.parameters()):,} parametere\")"
   ]
  },
  {
   "cell_type": "markdown",
   "id": "8b97acbc",
   "metadata": {},
   "source": [
    "## 💡 Praktisk betydning for helsevesenet\n",
    "\n",
    "Transformers muliggjør:\n",
    "1. **Journalsammendrag**: Automatisk oppsummering av lange journaler\n",
    "2. **Diagnosestøtte**: Koble symptomer til mulige diagnoser\n",
    "3. **Medisininteraksjoner**: Oppdage potensielle legemiddelinteraksjoner\n",
    "4. **Pasientkommunikasjon**: Forklare medisinske termer enkelt\n",
    "\n"
   ]
  },
  {
   "cell_type": "markdown",
   "id": "757ae224",
   "metadata": {},
   "source": [
    "### Refleksjon\n",
    "Hvordan kan attention-mekanismen hjelpe med å identifisere \n",
    "viktig informasjon i en pasientjournal?"
   ]
  },
  {
   "cell_type": "markdown",
   "id": "282235e2",
   "metadata": {},
   "source": []
  }
 ],
 "metadata": {
  "kernelspec": {
   "display_name": "ai-helse",
   "language": "python",
   "name": "python3"
  },
  "language_info": {
   "codemirror_mode": {
    "name": "ipython",
    "version": 3
   },
   "file_extension": ".py",
   "mimetype": "text/x-python",
   "name": "python",
   "nbconvert_exporter": "python",
   "pygments_lexer": "ipython3",
   "version": "3.12.11"
  }
 },
 "nbformat": 4,
 "nbformat_minor": 5
}
