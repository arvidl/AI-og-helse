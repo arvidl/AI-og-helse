{
 "cells": [
  {
   "cell_type": "markdown",
   "id": "c8f1168b",
   "metadata": {},
   "source": [
    "06-oppsett-miljø.ipynb - GitHub Codespaces guide"
   ]
  }
 ],
 "metadata": {
  "language_info": {
   "name": "python"
  }
 },
 "nbformat": 4,
 "nbformat_minor": 5
}
