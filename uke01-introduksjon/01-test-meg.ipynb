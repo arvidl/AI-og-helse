{
 "cells": [
  {
   "cell_type": "markdown",
   "id": "e0a07955",
   "metadata": {},
   "source": [
    "# Uke 1 - Test meg"
   ]
  },
  {
   "cell_type": "code",
   "execution_count": 5,
   "id": "1abd0a80",
   "metadata": {},
   "outputs": [
    {
     "name": "stdout",
     "output_type": "stream",
     "text": [
      "\n",
      "💡 Siden du kjører i GitHub Codespaces, kan du installere alle nødvendige pakker med én gang ved å kjøre:\n",
      "\n",
      "!pip install numpy pandas matplotlib seaborn jupyter requests openai anthropic\n"
     ]
    }
   ],
   "source": [
    "import os\n",
    "\n",
    "if \"CODESPACES\" in os.environ or \"CODESPACE_NAME\" in os.environ:\n",
    "    print()\n",
    "    print(\"💡 Siden du kjører i GitHub Codespaces, kan du installere alle nødvendige pakker med én gang ved å kjøre:\")\n",
    "    print()\n",
    "    print(\"!pip install numpy pandas matplotlib seaborn jupyter requests openai anthropic\")"
   ]
  },
  {
   "cell_type": "code",
   "execution_count": 6,
   "id": "2f7f1da8",
   "metadata": {},
   "outputs": [
    {
     "name": "stdout",
     "output_type": "stream",
     "text": [
      "🔍 Tester installasjon av pakker...\n",
      "==================================================\n",
      "🐍 Python versjon: 3.12.11 | packaged by Anaconda, Inc. | (main, Jun  5 2025, 13:09:17) [GCC 11.2.0]\n",
      "\n",
      "✅ numpy (2.3.3)\n",
      "✅ pandas (2.3.2)\n",
      "✅ matplotlib (3.10.6)\n",
      "✅ seaborn (0.13.2)\n",
      "✅ jupyter (1.1.1)\n",
      "✅ ipykernel (6.30.1)\n",
      "✅ requests (2.32.5)\n",
      "✅ openai (1.107.0)\n",
      "✅ anthropic (0.66.0)\n",
      "\n",
      "==================================================\n",
      "🎉 Alle nødvendige pakker er installert!\n",
      "Du er klar til å starte kurset! 🚀\n",
      "\n",
      "ℹ️  Kjører dette scriptet på: GitHub Codespaces\n"
     ]
    }
   ],
   "source": [
    "# Lage en enkel test for å se om du har installert alt riktig (både lokalt og på GitHub Codespaces)\n",
    "import sys\n",
    "import subprocess\n",
    "import importlib\n",
    "import pkg_resources\n",
    "import os\n",
    "\n",
    "print(\"🔍 Tester installasjon av pakker...\")\n",
    "print(\"=\" * 50)\n",
    "\n",
    "\n",
    "# Liste over nødvendige pakker\n",
    "required_packages = [\n",
    "    \"numpy\",\n",
    "    \"pandas\", \n",
    "    \"matplotlib\",\n",
    "    \"seaborn\",\n",
    "    \"jupyter\",\n",
    "    \"ipykernel\",\n",
    "    \"requests\",\n",
    "    \"openai\",\n",
    "    \"anthropic\"\n",
    "]\n",
    "\n",
    "# Test Python-versjon\n",
    "print(f\"🐍 Python versjon: {sys.version}\")\n",
    "print()\n",
    "\n",
    "# Test pakker\n",
    "missing_packages = []\n",
    "for package in required_packages:\n",
    "    try:\n",
    "        importlib.import_module(package)\n",
    "        version = pkg_resources.get_distribution(package).version\n",
    "        print(f\"✅ {package} ({version})\")\n",
    "    except (ImportError, pkg_resources.DistributionNotFound):\n",
    "        print(f\"❌ {package} - IKKE INSTALLERT\")\n",
    "        missing_packages.append(package)\n",
    "\n",
    "print()\n",
    "print(\"=\" * 50)\n",
    "\n",
    "if missing_packages:\n",
    "    print(\"⚠️  MANGLENDE PAKKER:\")\n",
    "    for package in missing_packages:\n",
    "        print(f\"   - {package}\")\n",
    "    print()\n",
    "    print(\"💡 For å installere manglende pakker:\")\n",
    "    print(f\"   pip install {' '.join(missing_packages)}\")\n",
    "else:\n",
    "    print(\"🎉 Alle nødvendige pakker er installert!\")\n",
    "    print(\"Du er klar til å starte kurset! 🚀\")\n",
    "\n",
    "print()\n",
    "print(\"ℹ️  Kjører dette scriptet på:\", \"GitHub Codespaces\" if \"CODESPACES\" in os.environ or \"CODESPACE_NAME\" in os.environ else \"Lokal maskin\")\n"
   ]
  }
 ],
 "metadata": {
  "kernelspec": {
   "display_name": "ai-helse",
   "language": "python",
   "name": "python3"
  },
  "language_info": {
   "codemirror_mode": {
    "name": "ipython",
    "version": 3
   },
   "file_extension": ".py",
   "mimetype": "text/x-python",
   "name": "python",
   "nbconvert_exporter": "python",
   "pygments_lexer": "ipython3",
   "version": "3.12.11"
  }
 },
 "nbformat": 4,
 "nbformat_minor": 5
}
